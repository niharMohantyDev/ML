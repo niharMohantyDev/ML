{
 "cells": [
  {
   "cell_type": "markdown",
   "id": "c5fc21b9-f843-48e5-a549-16612309e848",
   "metadata": {},
   "source": [
    "## NumPy Datatypes"
   ]
  },
  {
   "cell_type": "code",
   "execution_count": 1,
   "id": "a6e05f40-5c06-49bf-9f89-af720ed7984b",
   "metadata": {},
   "outputs": [
    {
     "name": "stdout",
     "output_type": "stream",
     "text": [
      "int32\n"
     ]
    }
   ],
   "source": [
    "import numpy as np\n",
    "\n",
    "# Creating an array with a specific data type\n",
    "arr = np.array([1, 2, 3], dtype=np.int32)\n",
    "print(arr.dtype)  # Output: int32"
   ]
  },
  {
   "cell_type": "markdown",
   "id": "8bb85857-13f2-4a8b-8710-a5ed3232be9d",
   "metadata": {},
   "source": [
    "## NumPy Attributes"
   ]
  },
  {
   "cell_type": "code",
   "execution_count": 2,
   "id": "dfcf35bf-6617-46a7-ad9f-04c42177e0b2",
   "metadata": {},
   "outputs": [
    {
     "name": "stdout",
     "output_type": "stream",
     "text": [
      "Shape: (2, 3)\n",
      "Size: 6\n",
      "Dimensions: 2\n",
      "Data Type: int32\n",
      "Item Size: 4\n",
      "Total Bytes: 24\n",
      "Transpose:\n",
      " [[1 4]\n",
      " [2 5]\n",
      " [3 6]]\n"
     ]
    }
   ],
   "source": [
    "arr1 = np.array([[1, 2, 3], \n",
    "                 [4, 5, 6]])\n",
    "\n",
    "print(\"Shape:\", arr1.shape)\n",
    "print(\"Size:\", arr1.size)\n",
    "print(\"Dimensions:\", arr1.ndim)\n",
    "print(\"Data Type:\", arr1.dtype)\n",
    "print(\"Item Size:\", arr1.itemsize)\n",
    "print(\"Total Bytes:\", arr1.nbytes)\n",
    "print(\"Transpose:\\n\", arr1.T)"
   ]
  },
  {
   "cell_type": "markdown",
   "id": "06b7fe4a-f060-49ef-8ec2-265f59d482d7",
   "metadata": {},
   "source": [
    "## Creating Numpy Arrays"
   ]
  },
  {
   "cell_type": "markdown",
   "id": "42081f76-225f-44e7-a42b-81f620f9bb9e",
   "metadata": {},
   "source": [
    "### Arrays from list"
   ]
  },
  {
   "cell_type": "code",
   "execution_count": 3,
   "id": "e1b3ff9b-45b9-4ee8-a9bc-98290bd1802c",
   "metadata": {},
   "outputs": [
    {
     "data": {
      "text/plain": [
       "array([1, 2, 3, 4, 5])"
      ]
     },
     "execution_count": 3,
     "metadata": {},
     "output_type": "execute_result"
    }
   ],
   "source": [
    "arr_from_list = np.array([1, 2, 3, 4, 5])\n",
    "arr_from_list"
   ]
  },
  {
   "cell_type": "markdown",
   "id": "cd635fbc-6301-4ac3-96fa-ed89205d00fd",
   "metadata": {},
   "source": [
    "### Using built functions "
   ]
  },
  {
   "cell_type": "markdown",
   "id": "de55939e-5e43-4e5c-a6cb-94148266bf1d",
   "metadata": {},
   "source": [
    "#### 3X3 array filled with zeroes"
   ]
  },
  {
   "cell_type": "code",
   "execution_count": 4,
   "id": "7771a8ee-81a7-4baf-91e0-57b969cd65e3",
   "metadata": {},
   "outputs": [
    {
     "data": {
      "text/plain": [
       "array([[0., 0., 0.],\n",
       "       [0., 0., 0.],\n",
       "       [0., 0., 0.]])"
      ]
     },
     "execution_count": 4,
     "metadata": {},
     "output_type": "execute_result"
    }
   ],
   "source": [
    "zeros_array = np.zeros((3, 3))\n",
    "zeros_array"
   ]
  },
  {
   "cell_type": "markdown",
   "id": "24ff19de-d061-471a-91cb-c5342fea8fe1",
   "metadata": {},
   "source": [
    "#### 3X3 array filled with ones"
   ]
  },
  {
   "cell_type": "code",
   "execution_count": 5,
   "id": "ffc3c0aa-e02c-431f-93bb-712f723d707c",
   "metadata": {},
   "outputs": [
    {
     "data": {
      "text/plain": [
       "array([[1., 1., 1.],\n",
       "       [1., 1., 1.],\n",
       "       [1., 1., 1.]])"
      ]
     },
     "execution_count": 5,
     "metadata": {},
     "output_type": "execute_result"
    }
   ],
   "source": [
    "ones_array = np.ones((3, 3))\n",
    "ones_array"
   ]
  },
  {
   "cell_type": "markdown",
   "id": "895b0c17-820e-4100-a148-8744e14db769",
   "metadata": {},
   "source": [
    "#### Array from 0 to 10 (exclusive) with step 2"
   ]
  },
  {
   "cell_type": "code",
   "execution_count": 6,
   "id": "56338742-6ca1-40c7-a654-3a28ae672740",
   "metadata": {},
   "outputs": [
    {
     "data": {
      "text/plain": [
       "array([0, 2, 4, 6, 8])"
      ]
     },
     "execution_count": 6,
     "metadata": {},
     "output_type": "execute_result"
    }
   ],
   "source": [
    "range_array = np.arange(0, 10, 2)\n",
    "range_array"
   ]
  },
  {
   "cell_type": "markdown",
   "id": "052d60b8-cd38-48bc-a110-15342b4796b4",
   "metadata": {},
   "source": [
    "#### Array with 5 evenly spaced values from 0 to 1"
   ]
  },
  {
   "cell_type": "code",
   "execution_count": 7,
   "id": "4ac76868-b78c-4dcd-9b80-7eb5a11495c5",
   "metadata": {},
   "outputs": [
    {
     "data": {
      "text/plain": [
       "array([ 0. ,  2.5,  5. ,  7.5, 10. ])"
      ]
     },
     "execution_count": 7,
     "metadata": {},
     "output_type": "execute_result"
    }
   ],
   "source": [
    "linspace_array = np.linspace(0, 10, 5)\n",
    "linspace_array"
   ]
  },
  {
   "cell_type": "markdown",
   "id": "51e530cb-0900-42c4-9957-71bcb5bf4e4a",
   "metadata": {},
   "source": [
    "#### 2x2 array with random values from uniform distribution"
   ]
  },
  {
   "cell_type": "code",
   "execution_count": 8,
   "id": "98d74e27-6f13-462c-84d8-c695e6c97a29",
   "metadata": {},
   "outputs": [
    {
     "data": {
      "text/plain": [
       "array([[0.66403033, 0.15686417],\n",
       "       [0.11126287, 0.80818165]])"
      ]
     },
     "execution_count": 8,
     "metadata": {},
     "output_type": "execute_result"
    }
   ],
   "source": [
    "random_array = np.random.rand(2, 2)\n",
    "random_array"
   ]
  },
  {
   "cell_type": "markdown",
   "id": "37ae31df-0d0e-4173-8482-17dd36c9a7cc",
   "metadata": {},
   "source": [
    "### Reshaping Arrays"
   ]
  },
  {
   "cell_type": "markdown",
   "id": "5d250f9a-4337-4dd7-b564-5a6398c60977",
   "metadata": {},
   "source": [
    "#### Array from 0 to 8"
   ]
  },
  {
   "cell_type": "code",
   "execution_count": 9,
   "id": "71126c09-6505-41e0-949e-d413c43098a4",
   "metadata": {},
   "outputs": [
    {
     "data": {
      "text/plain": [
       "array([0, 1, 2, 3, 4, 5, 6, 7, 8])"
      ]
     },
     "execution_count": 9,
     "metadata": {},
     "output_type": "execute_result"
    }
   ],
   "source": [
    "original_array = np.arange(9)\n",
    "original_array"
   ]
  },
  {
   "cell_type": "code",
   "execution_count": 13,
   "id": "3a67da9a-5013-471f-bc72-6f389ba1efb1",
   "metadata": {},
   "outputs": [
    {
     "data": {
      "text/plain": [
       "array([[0, 1, 2],\n",
       "       [3, 4, 5],\n",
       "       [6, 7, 8]])"
      ]
     },
     "execution_count": 13,
     "metadata": {},
     "output_type": "execute_result"
    }
   ],
   "source": [
    "reshaped_array = original_array.reshape((3, 3))  # Reshaping to a 3x3 array\n",
    "reshaped_array"
   ]
  },
  {
   "cell_type": "markdown",
   "id": "434fb35b-88c9-4007-976c-1ab8cd886832",
   "metadata": {},
   "source": [
    "## Numpy random seed"
   ]
  },
  {
   "cell_type": "code",
   "execution_count": 29,
   "id": "b7237df8-1beb-4609-b47f-21de5fd4cc20",
   "metadata": {},
   "outputs": [
    {
     "data": {
      "text/plain": [
       "array([0.37454012, 0.95071431, 0.73199394])"
      ]
     },
     "execution_count": 29,
     "metadata": {},
     "output_type": "execute_result"
    }
   ],
   "source": [
    "np.random.seed(42)\n",
    "\n",
    "# Generate random numbers\n",
    "random_numbers = np.random.rand(3)\n",
    "random_numbers"
   ]
  },
  {
   "cell_type": "markdown",
   "id": "c143c9a8-75d8-4b0e-9679-b709df86cd22",
   "metadata": {},
   "source": [
    "## Viewing Arrays and Matrices"
   ]
  },
  {
   "cell_type": "code",
   "execution_count": 30,
   "id": "dfee6a59-8f7b-44e4-b716-a22afa4ca41b",
   "metadata": {},
   "outputs": [
    {
     "name": "stdout",
     "output_type": "stream",
     "text": [
      "Array:\n",
      "[[1 2 3]\n",
      " [4 5 6]]\n",
      "\n"
     ]
    }
   ],
   "source": [
    "arr = np.array([[1, 2, 3], [4, 5, 6]])\n",
    "\n",
    "# Printing array using print()\n",
    "print(\"Array:\")\n",
    "print(arr)\n",
    "print()\n"
   ]
  },
  {
   "cell_type": "code",
   "execution_count": 31,
   "id": "7ea1eb6d-16f6-46a3-acea-69c6e042c79e",
   "metadata": {},
   "outputs": [
    {
     "name": "stdout",
     "output_type": "stream",
     "text": [
      "String Representation:\n",
      "[[1 2 3]\n",
      " [4 5 6]]\n",
      "\n"
     ]
    }
   ],
   "source": [
    "print(\"String Representation:\")\n",
    "print(np.array_str(arr))\n",
    "print()"
   ]
  },
  {
   "cell_type": "code",
   "execution_count": 32,
   "id": "0034db9c-bf35-42b3-9ebf-409e8f7480d1",
   "metadata": {},
   "outputs": [
    {
     "name": "stdout",
     "output_type": "stream",
     "text": [
      "Shape: (2, 3)\n",
      "Size: 6\n",
      "Dimensions: 2\n",
      "\n"
     ]
    }
   ],
   "source": [
    "# Shape and size\n",
    "print(\"Shape:\", arr.shape)\n",
    "print(\"Size:\", arr.size)\n",
    "print(\"Dimensions:\", arr.ndim)\n",
    "print()"
   ]
  },
  {
   "cell_type": "code",
   "execution_count": 33,
   "id": "b9bea6e4-77db-422a-ac6a-ec0236ad511b",
   "metadata": {},
   "outputs": [
    {
     "name": "stdout",
     "output_type": "stream",
     "text": [
      "Accessing elements:\n",
      "First row: [1 2 3]\n",
      "First element of the second row: 4\n",
      "\n"
     ]
    }
   ],
   "source": [
    "# Accessing elements\n",
    "print(\"Accessing elements:\")\n",
    "print(\"First row:\", arr[0])\n",
    "print(\"First element of the second row:\", arr[1, 0])\n",
    "print()"
   ]
  },
  {
   "cell_type": "code",
   "execution_count": 34,
   "id": "5bd656d0-a7ca-4fa1-84d2-3486ce7fb8e6",
   "metadata": {},
   "outputs": [
    {
     "name": "stdout",
     "output_type": "stream",
     "text": [
      "Transpose:\n",
      "[[1 4]\n",
      " [2 5]\n",
      " [3 6]]\n"
     ]
    }
   ],
   "source": [
    "# Transpose\n",
    "print(\"Transpose:\")\n",
    "print(arr.T)"
   ]
  },
  {
   "cell_type": "code",
   "execution_count": null,
   "id": "dc03235a-e2ba-4fb5-961b-eff8ce7a4e23",
   "metadata": {},
   "outputs": [],
   "source": []
  }
 ],
 "metadata": {
  "kernelspec": {
   "display_name": "Python 3 (ipykernel)",
   "language": "python",
   "name": "python3"
  },
  "language_info": {
   "codemirror_mode": {
    "name": "ipython",
    "version": 3
   },
   "file_extension": ".py",
   "mimetype": "text/x-python",
   "name": "python",
   "nbconvert_exporter": "python",
   "pygments_lexer": "ipython3",
   "version": "3.12.2"
  }
 },
 "nbformat": 4,
 "nbformat_minor": 5
}

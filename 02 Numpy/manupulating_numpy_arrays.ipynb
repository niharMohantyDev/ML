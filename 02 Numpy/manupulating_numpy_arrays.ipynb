{
 "cells": [
  {
   "cell_type": "code",
   "execution_count": 1,
   "id": "8ada7511-b592-40b6-9ccc-7c5a5fb17dff",
   "metadata": {},
   "outputs": [],
   "source": [
    "import numpy as np"
   ]
  },
  {
   "cell_type": "markdown",
   "id": "eed8b282-6c93-4aeb-aa3f-bd9af03f59cf",
   "metadata": {},
   "source": [
    "# Manipulating Arrays "
   ]
  },
  {
   "cell_type": "markdown",
   "id": "34590057-d86a-4099-984b-c28755e9ab7e",
   "metadata": {},
   "source": [
    "## reshape()"
   ]
  },
  {
   "cell_type": "code",
   "execution_count": 25,
   "id": "c85e0b57-28b6-4f3c-827b-7facff9e6d90",
   "metadata": {},
   "outputs": [
    {
     "name": "stdout",
     "output_type": "stream",
     "text": [
      "[ 3  4  5  6  7  8  9 10 11]\n",
      "[[ 3  4  5]\n",
      " [ 6  7  8]\n",
      " [ 9 10 11]]\n"
     ]
    }
   ],
   "source": [
    "arr = np.arange(3,12)\n",
    "\n",
    "reshaped_arr = arr.reshape((3, 3))\n",
    "print(reshaped_arr)"
   ]
  },
  {
   "cell_type": "markdown",
   "id": "51333b1c-9736-4306-9ae8-aa1b055b6500",
   "metadata": {},
   "source": [
    "## Indexing and Slicing:"
   ]
  },
  {
   "cell_type": "code",
   "execution_count": 23,
   "id": "eeb8fb5e-9b2b-4f05-bd9b-9b5633e4057b",
   "metadata": {},
   "outputs": [
    {
     "name": "stdout",
     "output_type": "stream",
     "text": [
      "4\n",
      "[4 5 6]\n",
      "[3]\n"
     ]
    }
   ],
   "source": [
    "print(arr[1])          # First element\n",
    "print(arr[1:4])        # Slicing\n",
    "print(arr[:1])         # Second column"
   ]
  },
  {
   "cell_type": "markdown",
   "id": "b5f75953-b000-4720-a925-01270968c4cb",
   "metadata": {},
   "source": [
    "## Element-wise Operations: "
   ]
  },
  {
   "cell_type": "code",
   "execution_count": 26,
   "id": "4010557f-ce59-4feb-b992-1fa9898cc9fe",
   "metadata": {},
   "outputs": [
    {
     "name": "stdout",
     "output_type": "stream",
     "text": [
      "[ 3  4  5  6  7  8  9 10 11]\n",
      "[ 6  8 10 12 14 16 18 20 22]\n"
     ]
    }
   ],
   "source": [
    "print(arr)\n",
    "result = arr * 2\n",
    "print(result) "
   ]
  },
  {
   "cell_type": "markdown",
   "id": "b86289f6-28d2-4a61-98ef-e2afe4903871",
   "metadata": {},
   "source": [
    "## Aggregation Functions: "
   ]
  },
  {
   "cell_type": "code",
   "execution_count": 28,
   "id": "33378d91-58af-40d8-bf5f-e7a404be2bc6",
   "metadata": {},
   "outputs": [
    {
     "name": "stdout",
     "output_type": "stream",
     "text": [
      "[[1 2]\n",
      " [3 4]]\n",
      "10\n",
      "[3 4]\n"
     ]
    }
   ],
   "source": [
    "ar1 = np.array([[1, 2], [3, 4]])\n",
    "print(ar1)\n",
    "print(np.sum(ar1))     # Sum of all elements\n",
    "print(np.max(ar1, axis=0))  # Maximum along each column"
   ]
  },
  {
   "cell_type": "markdown",
   "id": "a9ad4d73-91c6-4324-a0a6-6e3ed4a2e8f7",
   "metadata": {},
   "source": [
    "## Broadcasting: "
   ]
  },
  {
   "cell_type": "code",
   "execution_count": 31,
   "id": "700503e8-db38-4f8b-91f9-097dec189fdc",
   "metadata": {},
   "outputs": [
    {
     "name": "stdout",
     "output_type": "stream",
     "text": [
      "[[11 22 33]\n",
      " [14 25 36]]\n"
     ]
    }
   ],
   "source": [
    "arr1 = np.array([[1, 2, 3], [4, 5, 6]])\n",
    "arr2 = np.array([10, 20, 30])\n",
    "result = arr1 + arr2\n",
    "print(result)"
   ]
  },
  {
   "cell_type": "markdown",
   "id": "8eac6758-6b96-4a77-b4dc-d50ee5600e45",
   "metadata": {},
   "source": [
    "## Concatenation and Splitting:"
   ]
  },
  {
   "cell_type": "code",
   "execution_count": 32,
   "id": "e31f31d3-b061-42f4-bf0f-f3af59ef3745",
   "metadata": {},
   "outputs": [
    {
     "name": "stdout",
     "output_type": "stream",
     "text": [
      "[[1 2]\n",
      " [3 4]\n",
      " [5 6]]\n"
     ]
    }
   ],
   "source": [
    "arr4 = np.array([[1, 2], [3, 4]])\n",
    "arr5 = np.array([[5, 6]])\n",
    "concatenated = np.concatenate((arr4, arr5), axis=0)\n",
    "print(concatenated)"
   ]
  },
  {
   "cell_type": "markdown",
   "id": "1beab9e3-3e94-4c39-98ab-55a5c7350407",
   "metadata": {},
   "source": [
    "## Flattening: "
   ]
  },
  {
   "cell_type": "code",
   "execution_count": 33,
   "id": "1e263f3a-8ba6-44fd-998a-6a0393f5d964",
   "metadata": {},
   "outputs": [
    {
     "name": "stdout",
     "output_type": "stream",
     "text": [
      "[1 2 3 4]\n"
     ]
    }
   ],
   "source": [
    "arr = np.array([[1, 2], [3, 4]])\n",
    "flattened_arr = arr.flatten()\n",
    "print(flattened_arr)"
   ]
  },
  {
   "cell_type": "markdown",
   "id": "b6f5e9d9-0869-48b4-a1c8-a56727bacef3",
   "metadata": {},
   "source": [
    "## Sorting"
   ]
  },
  {
   "cell_type": "code",
   "execution_count": 34,
   "id": "ccff36c1-d7da-45e1-b95f-b88599837b36",
   "metadata": {},
   "outputs": [
    {
     "name": "stdout",
     "output_type": "stream",
     "text": [
      "[1 2 3 4]\n"
     ]
    }
   ],
   "source": [
    "arr = np.array([[3, 2], [1, 4]])\n",
    "sorted_arr = np.sort(arr, axis=None)  # Sort flattened array\n",
    "print(sorted_arr)"
   ]
  },
  {
   "cell_type": "markdown",
   "id": "f80bf956-cc42-4f24-9388-c9c66650ef6a",
   "metadata": {},
   "source": [
    "## resizing"
   ]
  },
  {
   "cell_type": "code",
   "execution_count": 35,
   "id": "4f60f941-a993-4cf5-b864-08b2fe23d57b",
   "metadata": {},
   "outputs": [
    {
     "name": "stdout",
     "output_type": "stream",
     "text": [
      "[[1 2 3]\n",
      " [4 0 0]]\n"
     ]
    }
   ],
   "source": [
    "arr = np.array([[1, 2], [3, 4]])\n",
    "arr.resize((2, 3))\n",
    "print(arr)"
   ]
  },
  {
   "cell_type": "markdown",
   "id": "48c8b3ec-7787-48d8-96a3-66d950ced1d1",
   "metadata": {},
   "source": [
    "## appending"
   ]
  },
  {
   "cell_type": "code",
   "execution_count": 37,
   "id": "6ba1c86a-184a-4ca5-afa5-5748e246f49b",
   "metadata": {},
   "outputs": [
    {
     "name": "stdout",
     "output_type": "stream",
     "text": [
      "[1 2 3 4 5 6]\n"
     ]
    }
   ],
   "source": [
    "arr1 = np.array([1, 2, 3])\n",
    "arr2 = np.array([4, 5, 6])\n",
    "appended_arr = np.append(arr1, arr2)\n",
    "print(appended_arr)"
   ]
  },
  {
   "cell_type": "markdown",
   "id": "dcc09e9f-f461-4dfc-9ab5-d5d9a990687d",
   "metadata": {},
   "source": [
    "## inserting"
   ]
  },
  {
   "cell_type": "code",
   "execution_count": 38,
   "id": "70cca94d-7b96-4cbf-af00-b28dff1a1819",
   "metadata": {},
   "outputs": [
    {
     "name": "stdout",
     "output_type": "stream",
     "text": [
      "[ 1  2 10 20  3  4  5]\n"
     ]
    }
   ],
   "source": [
    "arr = np.array([1, 2, 3, 4, 5])\n",
    "inserted_arr = np.insert(arr, 2, [10, 20])\n",
    "print(inserted_arr)"
   ]
  },
  {
   "cell_type": "markdown",
   "id": "a75e0546-4eaa-4670-b54b-2bb9d22e358e",
   "metadata": {},
   "source": [
    "## deleting"
   ]
  },
  {
   "cell_type": "code",
   "execution_count": 42,
   "id": "49ea1a7b-a11f-421d-9fbc-fa8004526efb",
   "metadata": {},
   "outputs": [
    {
     "name": "stdout",
     "output_type": "stream",
     "text": [
      "[]\n"
     ]
    }
   ],
   "source": [
    "arr = np.array([1, 2, 3, 4, 5])\n",
    "deleted_arr = np.delete(arr, [0,1,2,3,4])\n",
    "print(deleted_arr)"
   ]
  },
  {
   "cell_type": "markdown",
   "id": "7f67e8e0-3b68-4916-ba6e-a3c01885b797",
   "metadata": {},
   "source": [
    "## masking"
   ]
  },
  {
   "cell_type": "code",
   "execution_count": 46,
   "id": "216fa79c-1646-449a-9135-0ff860c15476",
   "metadata": {},
   "outputs": [
    {
     "name": "stdout",
     "output_type": "stream",
     "text": [
      "[2 4]\n"
     ]
    }
   ],
   "source": [
    "arr = np.array([1, 2, 3, 4, 5])\n",
    "mask = arr % 2 == 0\n",
    "filtered_arr = arr[mask]\n",
    "print(filtered_arr)"
   ]
  },
  {
   "cell_type": "markdown",
   "id": "c6171491-3b5e-44b6-8d47-64219c48ae6f",
   "metadata": {},
   "source": [
    "## stacking"
   ]
  },
  {
   "cell_type": "code",
   "execution_count": 47,
   "id": "a05ddbed-8c41-46f2-bec4-42556fbf9e6e",
   "metadata": {},
   "outputs": [
    {
     "name": "stdout",
     "output_type": "stream",
     "text": [
      "[[1 2 3]\n",
      " [4 5 6]]\n"
     ]
    }
   ],
   "source": [
    "arr1 = np.array([1, 2, 3])\n",
    "arr2 = np.array([4, 5, 6])\n",
    "stacked_arr = np.stack((arr1, arr2))\n",
    "print(stacked_arr)"
   ]
  },
  {
   "cell_type": "code",
   "execution_count": null,
   "id": "3871844f-8061-4c20-b589-e25e13e491f5",
   "metadata": {},
   "outputs": [],
   "source": []
  }
 ],
 "metadata": {
  "kernelspec": {
   "display_name": "Python 3 (ipykernel)",
   "language": "python",
   "name": "python3"
  },
  "language_info": {
   "codemirror_mode": {
    "name": "ipython",
    "version": 3
   },
   "file_extension": ".py",
   "mimetype": "text/x-python",
   "name": "python",
   "nbconvert_exporter": "python",
   "pygments_lexer": "ipython3",
   "version": "3.12.2"
  }
 },
 "nbformat": 4,
 "nbformat_minor": 5
}
